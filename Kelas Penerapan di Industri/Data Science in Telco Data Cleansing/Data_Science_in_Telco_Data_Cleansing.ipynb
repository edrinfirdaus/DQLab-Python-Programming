{
  "nbformat": 4,
  "nbformat_minor": 0,
  "metadata": {
    "colab": {
      "provenance": []
    },
    "kernelspec": {
      "name": "python3",
      "display_name": "Python 3"
    },
    "language_info": {
      "name": "python"
    }
  },
  "cells": [
    {
      "cell_type": "code",
      "execution_count": 2,
      "metadata": {
        "colab": {
          "base_uri": "https://localhost:8080/"
        },
        "id": "KhgLAoA_5hAf",
        "outputId": "f6f1b4bd-d588-4013-ecb6-c87d111b2fc2"
      },
      "outputs": [
        {
          "output_type": "stream",
          "name": "stdout",
          "text": [
            "(7113, 22)\n",
            "   UpdatedAt   customerID  gender  SeniorCitizen Partner Dependents  tenure  \\\n",
            "0     202006  45759018157  Female              0     Yes         No     1.0   \n",
            "1     202006  45557574145    Male              0      No         No    34.0   \n",
            "2     202006  45366876421    Male              0      No         No     2.0   \n",
            "3     202006  45779536532    Male              0      No         No    45.0   \n",
            "4     202006  45923787906  Female              0      No         No     2.0   \n",
            "\n",
            "  PhoneService     MultipleLines InternetService OnlineSecurity OnlineBackup  \\\n",
            "0           No  No phone service             DSL             No          Yes   \n",
            "1          Yes                No             DSL            Yes           No   \n",
            "2          Yes                No             DSL            Yes          Yes   \n",
            "3           No  No phone service             DSL            Yes           No   \n",
            "4          Yes                No     Fiber optic             No           No   \n",
            "\n",
            "  DeviceProtection TechSupport StreamingTV StreamingMovies        Contract  \\\n",
            "0               No          No          No              No  Month-to-month   \n",
            "1              Yes          No          No              No        One year   \n",
            "2               No          No          No              No  Month-to-month   \n",
            "3              Yes         Yes          No              No        One year   \n",
            "4               No          No          No              No  Month-to-month   \n",
            "\n",
            "  PaperlessBilling              PaymentMethod  MonthlyCharges  TotalCharges  \\\n",
            "0              Yes           Electronic check           29.85         29.85   \n",
            "1               No               Mailed check           56.95       1889.50   \n",
            "2              Yes               Mailed check           53.85        108.15   \n",
            "3               No  Bank transfer (automatic)           42.30       1840.75   \n",
            "4              Yes           Electronic check           70.70        151.65   \n",
            "\n",
            "  Churn  \n",
            "0    No  \n",
            "1    No  \n",
            "2   Yes  \n",
            "3    No  \n",
            "4   Yes  \n",
            "7017\n"
          ]
        }
      ],
      "source": [
        "# Import Library dan Dataset\n",
        "\n",
        "#import library\n",
        "import pandas as pd\n",
        "pd.options.display.max_columns = 50\n",
        "\n",
        "#import dataset\n",
        "df_load = pd.read_csv('https://storage.googleapis.com/dqlab-dataset/dqlab_telco.csv')\n",
        "\n",
        "#Tampilkan jumlah baris dan kolom\n",
        "print(df_load.shape)\n",
        "\n",
        "#Tampilkan 5 data teratas\n",
        "print(df_load.head(5))\n",
        "\n",
        "#Jumlah ID yang unik\n",
        "print(df_load.customerID.nunique())\n"
      ]
    },
    {
      "cell_type": "code",
      "source": [
        "# Memfilter ID Number Pelanggan Format Tertentu\n",
        "\n",
        "df_load['valid_id'] = df_load['customerID'].astype(str).str.match(r'(45\\d{9,10})')\n",
        "df_load = (df_load[df_load['valid_id'] == True]).drop('valid_id', axis = 1)\n",
        "print('Hasil jumlah ID Customer yang terfilter adalah', df_load['customerID'].count())"
      ],
      "metadata": {
        "colab": {
          "base_uri": "https://localhost:8080/"
        },
        "id": "cOeAfvSc6Nvx",
        "outputId": "c13041f8-0c77-4e0b-fec8-3d9a17b01c84"
      },
      "execution_count": 3,
      "outputs": [
        {
          "output_type": "stream",
          "name": "stdout",
          "text": [
            "Hasil jumlah ID Customer yang terfilter adalah 7006\n"
          ]
        }
      ]
    },
    {
      "cell_type": "code",
      "source": [
        "# Memfilter Duplikasi ID Number Pelanggan\n",
        "\n",
        "# Drop Duplicate Rows\n",
        "df_load.drop_duplicates()\n",
        "# Drop duplicate ID sorted by Periode\n",
        "df_load = df_load.sort_values('UpdatedAt', ascending=False).drop_duplicates(['customerID'])\n",
        "print('Hasil jumlah ID Customer yang sudah dihilangkan duplikasinya (distinct) adalah',df_load['customerID'].count())"
      ],
      "metadata": {
        "colab": {
          "base_uri": "https://localhost:8080/"
        },
        "id": "f7eY7fK66W_m",
        "outputId": "b1011537-fb90-49b9-caa1-e45c4b33b289"
      },
      "execution_count": 4,
      "outputs": [
        {
          "output_type": "stream",
          "name": "stdout",
          "text": [
            "Hasil jumlah ID Customer yang sudah dihilangkan duplikasinya (distinct) adalah 6993\n"
          ]
        }
      ]
    },
    {
      "cell_type": "code",
      "source": [
        "# Mengatasi Missing Values dengan Penghapusan Rows\n",
        "\n",
        "print('Total missing values data dari kolom Churn',df_load['Churn'].isnull().sum())\n",
        "# Dropping all Rows with spesific column (churn)\n",
        "df_load.dropna(subset=['Churn'],inplace=True)\n",
        "print('Total Rows dan kolom Data setelah dihapus data Missing Values adalah',df_load.shape)"
      ],
      "metadata": {
        "colab": {
          "base_uri": "https://localhost:8080/"
        },
        "id": "J1s0Ct2v6fx6",
        "outputId": "5321b278-aa79-4600-e877-0fecabc1e254"
      },
      "execution_count": 5,
      "outputs": [
        {
          "output_type": "stream",
          "name": "stdout",
          "text": [
            "Total missing values data dari kolom Churn 43\n",
            "Total Rows dan kolom Data setelah dihapus data Missing Values adalah (6950, 22)\n"
          ]
        }
      ]
    },
    {
      "cell_type": "code",
      "source": [
        "# Mengatasi Missing Values dengan Pengisian Nilai tertentu\n",
        "\n",
        "print('Status Missing Values :',df_load.isnull().values.any())\n",
        "print('\\nJumlah Missing Values masing-masing kolom, adalah:')\n",
        "print(df_load.isnull().sum().sort_values(ascending=False))\n",
        "\n",
        "# handling missing values Tenure fill with 11\n",
        "df_load['tenure'].fillna(11, inplace=True)\n",
        "\n",
        "# Handling missing values num vars (except Tenure)\n",
        "for col_name in list(['MonthlyCharges','TotalCharges']):\n",
        "\tmedian = df_load[col_name].median()\n",
        "\tdf_load[col_name].fillna(median, inplace=True)\n",
        "\n",
        "print('\\nJumlah Missing Values setelah di imputer datanya, adalah:')\n",
        "print(df_load.isnull().sum().sort_values(ascending=False))"
      ],
      "metadata": {
        "colab": {
          "base_uri": "https://localhost:8080/"
        },
        "id": "UCtttIY76xeJ",
        "outputId": "c6d6deb7-6b5c-4ea4-c4ac-35d1f60a1a24"
      },
      "execution_count": 6,
      "outputs": [
        {
          "output_type": "stream",
          "name": "stdout",
          "text": [
            "Status Missing Values : True\n",
            "\n",
            "Jumlah Missing Values masing-masing kolom, adalah:\n",
            "tenure              99\n",
            "MonthlyCharges      26\n",
            "TotalCharges        15\n",
            "gender               0\n",
            "UpdatedAt            0\n",
            "customerID           0\n",
            "Dependents           0\n",
            "Partner              0\n",
            "SeniorCitizen        0\n",
            "PhoneService         0\n",
            "OnlineSecurity       0\n",
            "OnlineBackup         0\n",
            "MultipleLines        0\n",
            "InternetService      0\n",
            "TechSupport          0\n",
            "DeviceProtection     0\n",
            "StreamingTV          0\n",
            "StreamingMovies      0\n",
            "PaperlessBilling     0\n",
            "Contract             0\n",
            "PaymentMethod        0\n",
            "Churn                0\n",
            "dtype: int64\n",
            "\n",
            "Jumlah Missing Values setelah di imputer datanya, adalah:\n",
            "UpdatedAt           0\n",
            "customerID          0\n",
            "gender              0\n",
            "SeniorCitizen       0\n",
            "Partner             0\n",
            "Dependents          0\n",
            "tenure              0\n",
            "PhoneService        0\n",
            "MultipleLines       0\n",
            "InternetService     0\n",
            "OnlineSecurity      0\n",
            "OnlineBackup        0\n",
            "DeviceProtection    0\n",
            "TechSupport         0\n",
            "StreamingTV         0\n",
            "StreamingMovies     0\n",
            "Contract            0\n",
            "PaperlessBilling    0\n",
            "PaymentMethod       0\n",
            "MonthlyCharges      0\n",
            "TotalCharges        0\n",
            "Churn               0\n",
            "dtype: int64\n"
          ]
        },
        {
          "output_type": "stream",
          "name": "stderr",
          "text": [
            "<ipython-input-6-a12db19d74b7>:8: FutureWarning: A value is trying to be set on a copy of a DataFrame or Series through chained assignment using an inplace method.\n",
            "The behavior will change in pandas 3.0. This inplace method will never work because the intermediate object on which we are setting values always behaves as a copy.\n",
            "\n",
            "For example, when doing 'df[col].method(value, inplace=True)', try using 'df.method({col: value}, inplace=True)' or df[col] = df[col].method(value) instead, to perform the operation inplace on the original object.\n",
            "\n",
            "\n",
            "  df_load['tenure'].fillna(11, inplace=True)\n",
            "<ipython-input-6-a12db19d74b7>:13: FutureWarning: A value is trying to be set on a copy of a DataFrame or Series through chained assignment using an inplace method.\n",
            "The behavior will change in pandas 3.0. This inplace method will never work because the intermediate object on which we are setting values always behaves as a copy.\n",
            "\n",
            "For example, when doing 'df[col].method(value, inplace=True)', try using 'df.method({col: value}, inplace=True)' or df[col] = df[col].method(value) instead, to perform the operation inplace on the original object.\n",
            "\n",
            "\n",
            "  df_load[col_name].fillna(median, inplace=True)\n"
          ]
        }
      ]
    },
    {
      "cell_type": "code",
      "source": [
        "# Mendeteksi Adanya Outlier Menggunakan Boxplot\n",
        "\n",
        "print('\\nPersebaran data sebelum ditangani Outlier: ')\n",
        "print(df_load[['tenure','MonthlyCharges','TotalCharges']].describe())\n",
        "\n",
        "# Creating Box Plot\n",
        "import matplotlib.pyplot as plt\n",
        "import seaborn as sns"
      ],
      "metadata": {
        "colab": {
          "base_uri": "https://localhost:8080/"
        },
        "id": "jhStWAeL6-1D",
        "outputId": "b5291874-7dd8-400f-bee3-ed32b5200624"
      },
      "execution_count": 7,
      "outputs": [
        {
          "output_type": "stream",
          "name": "stdout",
          "text": [
            "\n",
            "Persebaran data sebelum ditangani Outlier: \n",
            "            tenure  MonthlyCharges  TotalCharges\n",
            "count  6950.000000     6950.000000   6950.000000\n",
            "mean     32.477266       65.783741   2305.083460\n",
            "std      25.188910       50.457871   2578.651143\n",
            "min       0.000000        0.000000     19.000000\n",
            "25%       9.000000       36.462500    406.975000\n",
            "50%      29.000000       70.450000   1400.850000\n",
            "75%      55.000000       89.850000   3799.837500\n",
            "max     500.000000     2311.000000  80000.000000\n"
          ]
        }
      ]
    },
    {
      "cell_type": "code",
      "source": [
        "# Mengatasi Outlier\n",
        "# Asumsi df_load adalah DataFrame Anda\n",
        "# Pastikan kolom-kolom ini bertipe numerik dan tidak ada NaN yang mengganggu perhitungan quantile\n",
        "# Jika ada NaN, Anda mungkin perlu mengatasinya terlebih dahulu (misal: df_load.fillna(metode_imputasi))\n",
        "\n",
        "columns_for_outlier = ['tenure', 'MonthlyCharges', 'TotalCharges']\n",
        "\n",
        "# Menghitung Q1 dan Q3 hanya untuk kolom yang relevan\n",
        "Q1 = df_load[columns_for_outlier].quantile(0.25)\n",
        "Q3 = df_load[columns_for_outlier].quantile(0.75)\n",
        "\n",
        "IQR = Q3 - Q1\n",
        "maximum = Q3 + (1.5 * IQR)\n",
        "minimum = Q1 - (1.5 * IQR)\n",
        "\n",
        "print('Nilai Maximum dari masing-masing Variable adalah:')\n",
        "print(maximum)\n",
        "print('\\nNilai Minimum dari masing-masing Variable adalah:')\n",
        "print(minimum)\n",
        "\n",
        "# Mengatasi Outlier: Mengganti nilai yang berada di luar batas dengan batas itu sendiri (winsorization)\n",
        "\n",
        "# Iterasi melalui setiap kolom yang relevan\n",
        "for col in columns_for_outlier:\n",
        "    # Mengganti nilai yang lebih besar dari batas atas dengan batas atas\n",
        "    df_load[col] = df_load[col].mask(df_load[col] > maximum[col], maximum[col])\n",
        "\n",
        "    # Mengganti nilai yang lebih kecil dari batas bawah dengan batas bawah\n",
        "    df_load[col] = df_load[col].mask(df_load[col] < minimum[col], minimum[col])\n",
        "\n",
        "print('\\nPersebaran data setelah ditangani Outlier:')\n",
        "print(df_load[columns_for_outlier].describe())"
      ],
      "metadata": {
        "colab": {
          "base_uri": "https://localhost:8080/"
        },
        "id": "nb-KmgLq7X48",
        "outputId": "3e2fd30c-a8b8-4970-b3ac-2c84ab64fd64"
      },
      "execution_count": 15,
      "outputs": [
        {
          "output_type": "stream",
          "name": "stdout",
          "text": [
            "Nilai Maximum dari masing-masing Variable adalah:\n",
            "tenure             124.00000\n",
            "MonthlyCharges     169.93125\n",
            "TotalCharges      8889.13125\n",
            "dtype: float64\n",
            "\n",
            "Nilai Minimum dari masing-masing Variable adalah:\n",
            "tenure             -60.00000\n",
            "MonthlyCharges     -43.61875\n",
            "TotalCharges     -4682.31875\n",
            "dtype: float64\n",
            "\n",
            "Persebaran data setelah ditangani Outlier:\n",
            "            tenure  MonthlyCharges  TotalCharges\n",
            "count  6950.000000     6950.000000   6950.000000\n",
            "mean     32.423165       64.992201   2286.058750\n",
            "std      24.581073       30.032040   2265.702553\n",
            "min       0.000000        0.000000     19.000000\n",
            "25%       9.000000       36.462500    406.975000\n",
            "50%      29.000000       70.450000   1400.850000\n",
            "75%      55.000000       89.850000   3799.837500\n",
            "max     124.000000      169.931250   8889.131250\n"
          ]
        }
      ]
    },
    {
      "cell_type": "code",
      "source": [
        "# Mendeteksi Nilai yang tidak Standar\n",
        "\n",
        "# Masukkan variable\n",
        "for col_name in list(['gender','SeniorCitizen','Partner','Dependents','PhoneService','MultipleLines','InternetService','OnlineSecurity','OnlineBackup','DeviceProtection','TechSupport','StreamingTV','StreamingMovies','Contract','PaperlessBilling','PaymentMethod','Churn']):\n",
        "\tprint('\\nUnique Values Count \\033[1m' + 'Before Standardized \\033[0m Variable',col_name)\n",
        "\tprint(df_load[col_name].value_counts())"
      ],
      "metadata": {
        "colab": {
          "base_uri": "https://localhost:8080/"
        },
        "id": "G8qKkHlo8qBD",
        "outputId": "6e8caa9d-388b-4b3c-d4f1-6d970c06b540"
      },
      "execution_count": 16,
      "outputs": [
        {
          "output_type": "stream",
          "name": "stdout",
          "text": [
            "\n",
            "Unique Values Count \u001b[1mBefore Standardized \u001b[0m Variable gender\n",
            "gender\n",
            "Male         3499\n",
            "Female       3431\n",
            "Wanita         14\n",
            "Laki-Laki       6\n",
            "Name: count, dtype: int64\n",
            "\n",
            "Unique Values Count \u001b[1mBefore Standardized \u001b[0m Variable SeniorCitizen\n",
            "SeniorCitizen\n",
            "0    5822\n",
            "1    1128\n",
            "Name: count, dtype: int64\n",
            "\n",
            "Unique Values Count \u001b[1mBefore Standardized \u001b[0m Variable Partner\n",
            "Partner\n",
            "No     3591\n",
            "Yes    3359\n",
            "Name: count, dtype: int64\n",
            "\n",
            "Unique Values Count \u001b[1mBefore Standardized \u001b[0m Variable Dependents\n",
            "Dependents\n",
            "No     4870\n",
            "Yes    2060\n",
            "Iya      20\n",
            "Name: count, dtype: int64\n",
            "\n",
            "Unique Values Count \u001b[1mBefore Standardized \u001b[0m Variable PhoneService\n",
            "PhoneService\n",
            "Yes    6281\n",
            "No      669\n",
            "Name: count, dtype: int64\n",
            "\n",
            "Unique Values Count \u001b[1mBefore Standardized \u001b[0m Variable MultipleLines\n",
            "MultipleLines\n",
            "No                  3346\n",
            "Yes                 2935\n",
            "No phone service     669\n",
            "Name: count, dtype: int64\n",
            "\n",
            "Unique Values Count \u001b[1mBefore Standardized \u001b[0m Variable InternetService\n",
            "InternetService\n",
            "Fiber optic    3057\n",
            "DSL            2388\n",
            "No             1505\n",
            "Name: count, dtype: int64\n",
            "\n",
            "Unique Values Count \u001b[1mBefore Standardized \u001b[0m Variable OnlineSecurity\n",
            "OnlineSecurity\n",
            "No                     3454\n",
            "Yes                    1991\n",
            "No internet service    1505\n",
            "Name: count, dtype: int64\n",
            "\n",
            "Unique Values Count \u001b[1mBefore Standardized \u001b[0m Variable OnlineBackup\n",
            "OnlineBackup\n",
            "No                     3045\n",
            "Yes                    2400\n",
            "No internet service    1505\n",
            "Name: count, dtype: int64\n",
            "\n",
            "Unique Values Count \u001b[1mBefore Standardized \u001b[0m Variable DeviceProtection\n",
            "DeviceProtection\n",
            "No                     3054\n",
            "Yes                    2391\n",
            "No internet service    1505\n",
            "Name: count, dtype: int64\n",
            "\n",
            "Unique Values Count \u001b[1mBefore Standardized \u001b[0m Variable TechSupport\n",
            "TechSupport\n",
            "No                     3431\n",
            "Yes                    2014\n",
            "No internet service    1505\n",
            "Name: count, dtype: int64\n",
            "\n",
            "Unique Values Count \u001b[1mBefore Standardized \u001b[0m Variable StreamingTV\n",
            "StreamingTV\n",
            "No                     2774\n",
            "Yes                    2671\n",
            "No internet service    1505\n",
            "Name: count, dtype: int64\n",
            "\n",
            "Unique Values Count \u001b[1mBefore Standardized \u001b[0m Variable StreamingMovies\n",
            "StreamingMovies\n",
            "No                     2747\n",
            "Yes                    2698\n",
            "No internet service    1505\n",
            "Name: count, dtype: int64\n",
            "\n",
            "Unique Values Count \u001b[1mBefore Standardized \u001b[0m Variable Contract\n",
            "Contract\n",
            "Month-to-month    3823\n",
            "Two year          1670\n",
            "One year          1457\n",
            "Name: count, dtype: int64\n",
            "\n",
            "Unique Values Count \u001b[1mBefore Standardized \u001b[0m Variable PaperlessBilling\n",
            "PaperlessBilling\n",
            "Yes    4114\n",
            "No     2836\n",
            "Name: count, dtype: int64\n",
            "\n",
            "Unique Values Count \u001b[1mBefore Standardized \u001b[0m Variable PaymentMethod\n",
            "PaymentMethod\n",
            "Electronic check             2337\n",
            "Mailed check                 1594\n",
            "Bank transfer (automatic)    1519\n",
            "Credit card (automatic)      1500\n",
            "Name: count, dtype: int64\n",
            "\n",
            "Unique Values Count \u001b[1mBefore Standardized \u001b[0m Variable Churn\n",
            "Churn\n",
            "No       5114\n",
            "Yes      1827\n",
            "Churn       9\n",
            "Name: count, dtype: int64\n"
          ]
        }
      ]
    },
    {
      "cell_type": "code",
      "source": [
        "# Menstandarisasi Variable Kategorik\n",
        "\n",
        "df_load = df_load.replace(['Wanita','Laki-Laki','Churn','Iya'],['Female','Male','Yes','Yes'])\n",
        "\n",
        "# Masukkan variable\n",
        "for col_name in list(['gender','Dependents','Churn']):\n",
        "\tprint('\\nUnique Values Count \\033[1m' + 'After Standardized \\033[0mVariable',col_name)\n",
        "\tprint(df_load[col_name].value_counts())"
      ],
      "metadata": {
        "colab": {
          "base_uri": "https://localhost:8080/"
        },
        "id": "QjNUg0I98vwS",
        "outputId": "99bb0c3e-9bc1-4f4b-dbff-7dc271b7b513"
      },
      "execution_count": 17,
      "outputs": [
        {
          "output_type": "stream",
          "name": "stdout",
          "text": [
            "\n",
            "Unique Values Count \u001b[1mAfter Standardized \u001b[0mVariable gender\n",
            "gender\n",
            "Male      3505\n",
            "Female    3445\n",
            "Name: count, dtype: int64\n",
            "\n",
            "Unique Values Count \u001b[1mAfter Standardized \u001b[0mVariable Dependents\n",
            "Dependents\n",
            "No     4870\n",
            "Yes    2080\n",
            "Name: count, dtype: int64\n",
            "\n",
            "Unique Values Count \u001b[1mAfter Standardized \u001b[0mVariable Churn\n",
            "Churn\n",
            "No     5114\n",
            "Yes    1836\n",
            "Name: count, dtype: int64\n"
          ]
        }
      ]
    }
  ]
}